{
 "cells": [
  {
   "cell_type": "code",
   "execution_count": 2,
   "metadata": {},
   "outputs": [
    {
     "name": "stdout",
     "output_type": "stream",
     "text": [
      "/cluster/home/sondeso/TransformerUQ\n",
      "Rows in merged dataset: 993\n"
     ]
    }
   ],
   "source": [
    "# change cwd\n",
    "import os\n",
    "os.chdir(\"..\")\n",
    "print(os.getcwd())\n",
    "from gpt2project.data_processing.commongen_dataset import CommonGen\n",
    "\n",
    "\n",
    "\n",
    "commongen = CommonGen()"
   ]
  },
  {
   "cell_type": "code",
   "execution_count": 5,
   "metadata": {},
   "outputs": [
    {
     "data": {
      "application/vnd.jupyter.widget-view+json": {
       "model_id": "47ee50f0504d4d0699931fe0d473f9e3",
       "version_major": 2,
       "version_minor": 0
      },
      "text/plain": [
       "Resolving data files:   0%|          | 0/26 [00:00<?, ?it/s]"
      ]
     },
     "metadata": {},
     "output_type": "display_data"
    },
    {
     "data": {
      "application/vnd.jupyter.widget-view+json": {
       "model_id": "3f64e36c78de4d82abf9a7af8a3082ee",
       "version_major": 2,
       "version_minor": 0
      },
      "text/plain": [
       "Resolving data files:   0%|          | 0/26 [00:00<?, ?it/s]"
      ]
     },
     "metadata": {},
     "output_type": "display_data"
    },
    {
     "name": "stderr",
     "output_type": "stream",
     "text": [
      "WARNING:gpt2project.data_processing.translated_dataset:Loading translated TriviaQA dataset from cache: local/translated_benchmarks/TriviaQA.pkl\n"
     ]
    },
    {
     "name": "stdout",
     "output_type": "stream",
     "text": [
      "TranslatedTriviaQA\n"
     ]
    }
   ],
   "source": [
    "from gpt2project.data_processing.lambada_dataset import Lambada\n",
    "from gpt2project.data_processing.squad_dataset import Squad\n",
    "from gpt2project.data_processing.translated_dataset import TranslatedDataset\n",
    "from gpt2project.data_processing.triviaqa_dataset import TriviaQA\n",
    "\n",
    "\n",
    "translated_data = TranslatedDataset(TriviaQA())\n",
    "\n",
    "print(repr(translated_data))"
   ]
  },
  {
   "cell_type": "code",
   "execution_count": 205,
   "metadata": {},
   "outputs": [
    {
     "name": "stdout",
     "output_type": "stream",
     "text": [
      "Context: Wimbledon SW19 If you have ever ... It is within the SW19 and SW20 postcode areas, and nearby the SW15, SW17, SW18, ... The Wimbledon Championships is the oldest ... Moving Company Wimbledon SW19, SW20 nearby postcodes SW15, ... the area of Wimbledon was the property of the ... Postcode SW19, SW20 nearby postcodes SW15, SW17 ... Wimbledon, SW19, SW20 ... The area of Wimbledon is most famous for holding the Wimbledon Tennis Championships. ... Postcode SW19, SW20 nearby postcodes SW15, SW17 ...\n",
      "Q: In which postcode area are the Wimbledon Championships held? SW15, SW17 or SW19?\n",
      "A:\n",
      "\n",
      "\n",
      "\n",
      "Kontext: Wimbledon SW19 Wenn Sie jemals ... Es liegt innerhalb der Postleitzahlengebiete SW19 und SW20 und in der Nähe der SW15, SW17, SW18, ... Die Wimbledon Championships sind die ältesten ... Umzugsunternehmen Wimbledon SW19, SW20 in der Nähe der Postleitzahlen SW15, ... das Gebiet von Wimbledon war das Eigentum der ... Postleitzahl SW19, SW20 in der Nähe der Postleitzahlen SW15, SW17 ... Wimbledon, SW19, SW20 ... Das Gebiet von Wimbledon ist am bekanntesten für die Austragung der Wimbledon Tennis Championships. ... Postleitzahl SW19, SW20 in der Nähe der Postleitzahlen SW15, SW17 ...\n",
      "F: In welchem Postleitzahlengebiet werden die Wimbledon Championships ausgetragen? SW15, SW17 oder SW19?\n",
      "A:\n",
      "\n"
     ]
    },
    {
     "data": {
      "text/plain": [
       "0.934"
      ]
     },
     "execution_count": 205,
     "metadata": {},
     "output_type": "execute_result"
    }
   ],
   "source": [
    "import pandas as pd\n",
    "\n",
    "example_idx = 519\n",
    "\n",
    "print(translated_data.get_original_item(example_idx).prompt)\n",
    "\n",
    "print(\"\\n\\n\")\n",
    "\n",
    "print(translated_data[example_idx].prompt)\n",
    "\n",
    "sum([translated_data[i].prompt.split(\" \")[0] == \"Kontext:\" for i in range(len(translated_data))]) / len(translated_data)"
   ]
  },
  {
   "cell_type": "code",
   "execution_count": null,
   "metadata": {},
   "outputs": [],
   "source": [
    "from gpt2project.uq.evaluation_run_config import EvaluationRunConfig\n",
    "\n"
   ]
  }
 ],
 "metadata": {
  "kernelspec": {
   "display_name": "venv",
   "language": "python",
   "name": "python3"
  },
  "language_info": {
   "codemirror_mode": {
    "name": "ipython",
    "version": 3
   },
   "file_extension": ".py",
   "mimetype": "text/x-python",
   "name": "python",
   "nbconvert_exporter": "python",
   "pygments_lexer": "ipython3",
   "version": "3.12.3"
  }
 },
 "nbformat": 4,
 "nbformat_minor": 2
}
