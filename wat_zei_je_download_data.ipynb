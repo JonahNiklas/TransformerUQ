{
 "cells": [
  {
   "cell_type": "markdown",
   "metadata": {},
   "source": [
    "## Download all the data we need for Wat zei je benchmarks\n",
    "\n",
    "Training\n",
    "- news-commentary-v13.de-en\n",
    "- wmt13-commoncrawl.de-en\n",
    "- wmt13-europarl.de-en\n",
    "\n",
    "Test\n",
    "- wmt14-newstest2014-de-en\n",
    "\n",
    "Test OOD\n",
    "- news-commentary-v14.nl-en"
   ]
  },
  {
   "cell_type": "code",
   "execution_count": 9,
   "metadata": {},
   "outputs": [],
   "source": [
    "training_sets = [\n",
    "    {\n",
    "        \"link\": \"http://data.statmt.org/wmt18/translation-task/training-parallel-nc-v13.tgz\",\n",
    "        \"subfolder\": \"\",\n",
    "        \"de_file\": \"news-commentary-v13.de-en.en\",\n",
    "        \"en_file\": \"news-commentary-v13.de-en.en\"\n",
    "    },\n",
    "    {\n",
    "        \"link\": \"https://www.statmt.org/wmt13/training-parallel-commoncrawl.tgz\",\n",
    "        \"subfolder\": \"\",\n",
    "        \"de_file\": \"commoncrawl.de-en.de\",\n",
    "        \"en_file\": \"commoncrawl.de-en.en\"\n",
    "    },\n",
    "    {\n",
    "        \"link\": \"https://www.statmt.org/wmt13/training-parallel-europarl-v7.tgz\",\n",
    "        \"subfolder\": \"training/\",\n",
    "        \"de_file\": \"europarl-v7.de-en.de\",\n",
    "        \"en_file\": \"europarl-v7.de-en.en\"\n",
    "    }\n",
    "]\n",
    "test_set = {\n",
    "    \"link\":  \"https://www.statmt.org/wmt14/test.tgz\",\n",
    "    \"subfolder\": \"test/\",\n",
    "    \"de_file\": \"newstest2014-deen-src.de.sgm\",\n",
    "    \"en_file\": \"newstest2014-deen-src.en.sgm\"\n",
    "}\n",
    "\n",
    "test_ood = {\n",
    "    \"link\": \"https://data.statmt.org/news-commentary/v14/training/news-commentary-v14.es-nl.tsv.gz\",\n",
    "    \"subfolder\": \"\"\n",
    "}\n"
   ]
  },
  {
   "cell_type": "code",
   "execution_count": null,
   "metadata": {},
   "outputs": [],
   "source": [
    "import requests\n",
    "import tarfile\n",
    "import gzip\n",
    "import shutil\n",
    "import os\n",
    "\n",
    "data_directory = \"./local/data\"\n",
    "def download_and_extract(url, de_file=None, en_file=None):\n",
    "    local_filename = url.split('/')[-1]\n",
    "    with requests.get(url, stream=True) as r:\n",
    "        r.raise_for_status()\n",
    "        with open(local_filename, 'wb') as f:\n",
    "            for chunk in r.iter_content(chunk_size=8192):\n",
    "                f.write(chunk)\n",
    "    if local_filename.endswith(\".tgz\") or local_filename.endswith(\".tar.gz\"):\n",
    "        with tarfile.open(local_filename, \"r:gz\") as tar:\n",
    "            if de_file is None or en_file is None:\n",
    "                tar.extractall(path=data_directory)\n",
    "            else:\n",
    "                for member in tar.getmembers():\n",
    "                    if member.name.endswith(de_file) or member.name.endswith(en_file):\n",
    "                        tar.extract(member, path=data_directory)\n",
    "\n",
    "    if local_filename.endswith(\".gz\") and not local_filename.endswith(\".tar.gz\"):\n",
    "        with gzip.open(local_filename, 'rb') as f_in:\n",
    "            with open(os.path.join(data_directory, local_filename[:-3]), 'wb') as f_out:\n",
    "                shutil.copyfileobj(f_in, f_out)\n",
    "    os.remove(local_filename)\n",
    "\n",
    "# Download and extract training sets\n",
    "for dataset in training_sets:\n",
    "    download_and_extract(dataset[\"link\"], dataset[\"de_file\"], dataset[\"en_file\"])\n",
    "\n",
    "# Download and extract test set\n",
    "download_and_extract(test_set[\"link\"], test_set[\"de_file\"], test_set[\"en_file\"])\n",
    "\n",
    "# Download and extract ood test set\n",
    "download_and_extract(test_ood[\"link\"])"
   ]
  }
 ],
 "metadata": {
  "kernelspec": {
   "display_name": "venv",
   "language": "python",
   "name": "python3"
  },
  "language_info": {
   "codemirror_mode": {
    "name": "ipython",
    "version": 3
   },
   "file_extension": ".py",
   "mimetype": "text/x-python",
   "name": "python",
   "nbconvert_exporter": "python",
   "pygments_lexer": "ipython3",
   "version": "3.8.20"
  }
 },
 "nbformat": 4,
 "nbformat_minor": 2
}
