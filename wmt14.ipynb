{
 "cells": [
  {
   "cell_type": "code",
   "execution_count": null,
   "metadata": {},
   "outputs": [
    {
     "name": "stdout",
     "output_type": "stream",
     "text": [
      "Cloning Moses github repository (for tokenization scripts)...\n",
      "fatal: destination path 'mosesdecoder' already exists and is not an empty directory.\n",
      "Cloning Subword NMT repository (for BPE pre-processing)...\n",
      "fatal: destination path 'subword-nmt' already exists and is not an empty directory.\n",
      "training-parallel-europarl-v7.tgz already exists, skipping download\n",
      "training-parallel-commoncrawl.tgz already exists, skipping download\n",
      "training-parallel-nc-v12.tgz already exists, skipping download\n",
      "dev.tgz already exists, skipping download\n",
      "test-full.tgz already exists, skipping download\n",
      "pre-processing train data...\n",
      "Tokenizer Version 1.1\n",
      "Language: en\n",
      "Number of threads: 8\n",
      "Tokenizer Version 1.1\n",
      "Language: en\n",
      "Number of threads: 8\n"
     ]
    }
   ],
   "source": [
    "!cd local && bash ../venv/lib/python3.8/site-packages/fairseq/examples/translation/prepare-wmt14en2de.sh"
   ]
  },
  {
   "cell_type": "code",
   "execution_count": null,
   "metadata": {},
   "outputs": [
    {
     "ename": "",
     "evalue": "",
     "output_type": "error",
     "traceback": [
      "\u001b[1;31mFailed to start the Kernel 'venv (Python 3.8.20)'. \n",
      "\u001b[1;31mView Jupyter <a href='command:jupyter.viewOutput'>log</a> for further details. spawn ENOMEM"
     ]
    }
   ],
   "source": [
    "# Binarize the dataset\n",
    "TEXT=examples/translation/wmt17_en_de\n",
    "fairseq-preprocess \\\n",
    "    --source-lang en --target-lang de \\\n",
    "    --trainpref $TEXT/train --validpref $TEXT/valid --testpref $TEXT/test \\\n",
    "    --destdir data-bin/wmt17_en_de --thresholdtgt 0 --thresholdsrc 0 \\\n",
    "    --workers 20"
   ]
  }
 ],
 "metadata": {
  "kernelspec": {
   "display_name": "venv",
   "language": "python",
   "name": "python3"
  },
  "language_info": {
   "codemirror_mode": {
    "name": "ipython",
    "version": 3
   },
   "file_extension": ".py",
   "mimetype": "text/x-python",
   "name": "python",
   "nbconvert_exporter": "python",
   "pygments_lexer": "ipython3",
   "version": "3.8.20"
  }
 },
 "nbformat": 4,
 "nbformat_minor": 2
}
