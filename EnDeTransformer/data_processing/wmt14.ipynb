{
 "cells": [
  {
   "cell_type": "code",
   "execution_count": null,
   "metadata": {},
   "outputs": [
    {
     "name": "stdout",
     "output_type": "stream",
     "text": [
      "Cloning Moses github repository (for tokenization scripts)...\n",
      "fatal: destination path 'mosesdecoder' already exists and is not an empty directory.\n",
      "Cloning Subword NMT repository (for BPE pre-processing)...\n",
      "fatal: destination path 'subword-nmt' already exists and is not an empty directory.\n",
      "training-parallel-europarl-v7.tgz already exists, skipping download\n",
      "training-parallel-commoncrawl.tgz already exists, skipping download\n",
      "training-parallel-nc-v12.tgz already exists, skipping download\n",
      "dev.tgz already exists, skipping download\n",
      "test-full.tgz already exists, skipping download\n",
      "pre-processing train data...\n",
      "Tokenizer Version 1.1\n",
      "Language: en\n",
      "Number of threads: 8\n",
      "Tokenizer Version 1.1\n",
      "Language: en\n",
      "Number of threads: 8\n"
     ]
    }
   ],
   "source": [
    "!cd local && bash ../venv/lib/python3.8/site-packages/fairseq/examples/translation/prepare-wmt14en2de.sh"
   ]
  },
  {
   "cell_type": "code",
   "execution_count": 3,
   "metadata": {},
   "outputs": [
    {
     "name": "stdout",
     "output_type": "stream",
     "text": [
      "2025-01-23 09:52:23 | INFO | fairseq.tasks.text_to_speech | Please install tensorboardX: pip install tensorboardX\n",
      "2025-01-23 09:52:23 | INFO | fairseq_cli.preprocess | Namespace(aim_repo=None, aim_run_hash=None, align_suffix=None, alignfile=None, all_gather_list_size=16384, amp=False, amp_batch_retries=2, amp_init_scale=128, amp_scale_window=None, azureml_logging=False, bf16=False, bpe=None, cpu=False, criterion='cross_entropy', dataset_impl='mmap', destdir='data-bin/wmt17_en_de', dict_only=False, empty_cache_freq=0, fp16=False, fp16_init_scale=128, fp16_no_flatten_grads=False, fp16_scale_tolerance=0.0, fp16_scale_window=None, joined_dictionary=False, log_file=None, log_format=None, log_interval=100, lr_scheduler='fixed', memory_efficient_bf16=False, memory_efficient_fp16=False, min_loss_scale=0.0001, model_parallel_size=1, no_progress_bar=False, nwordssrc=-1, nwordstgt=-1, on_cpu_convert_precision=False, only_source=False, optimizer=None, padding_factor=8, plasma_path='/tmp/plasma', profile=False, quantization_config_path=None, reset_logging=False, scoring='bleu', seed=1, source_lang='de', srcdict=None, suppress_crashes=False, target_lang='en', task='translation', tensorboard_logdir=None, testpref='local/wmt17_en_de/test', tgtdict=None, threshold_loss_scale=None, thresholdsrc=0, thresholdtgt=0, tokenizer=None, tpu=False, trainpref='local/wmt17_en_de/train', use_plasma_view=False, user_dir=None, validpref='local/wmt17_en_de/valid', wandb_project=None, workers=20)\n",
      "Traceback (most recent call last):\n",
      "  File \"/home/sondre/TransformerUQ/venv/bin/fairseq-preprocess\", line 8, in <module>\n",
      "    sys.exit(cli_main())\n",
      "  File \"/home/sondre/TransformerUQ/venv/lib/python3.8/site-packages/fairseq_cli/preprocess.py\", line 389, in cli_main\n",
      "    main(args)\n",
      "  File \"/home/sondre/TransformerUQ/venv/lib/python3.8/site-packages/fairseq_cli/preprocess.py\", line 340, in main\n",
      "    src_dict = _build_dictionary(\n",
      "  File \"/home/sondre/TransformerUQ/venv/lib/python3.8/site-packages/fairseq_cli/preprocess.py\", line 87, in _build_dictionary\n",
      "    return task.build_dictionary(\n",
      "  File \"/home/sondre/TransformerUQ/venv/lib/python3.8/site-packages/fairseq/tasks/fairseq_task.py\", line 114, in build_dictionary\n",
      "    Dictionary.add_file_to_dictionary(\n",
      "  File \"/home/sondre/TransformerUQ/venv/lib/python3.8/site-packages/fairseq/data/dictionary.py\", line 354, in add_file_to_dictionary\n",
      "    offsets = find_offsets(local_file, num_workers)\n",
      "  File \"/home/sondre/TransformerUQ/venv/lib/python3.8/site-packages/fairseq/file_chunker_utils.py\", line 25, in find_offsets\n",
      "    with open(filename, \"r\", encoding=\"utf-8\") as f:\n",
      "FileNotFoundError: [Errno 2] No such file or directory: 'local/wmt17_en_de/train.de'\n"
     ]
    }
   ],
   "source": [
    "# Binarize the dataset\n",
    "!TEXT=local/wmt17_en_de \\\n",
    "fairseq-preprocess \\\n",
    "    --source-lang de --target-lang en \\\n",
    "    --trainpref $TEXT/train --validpref $TEXT/valid --testpref $TEXT/test \\\n",
    "    --destdir data-bin/wmt17_en_de --thresholdtgt 0 --thresholdsrc 0 \\\n",
    "    --workers 20"
   ]
  }
 ],
 "metadata": {
  "kernelspec": {
   "display_name": "venv",
   "language": "python",
   "name": "python3"
  },
  "language_info": {
   "codemirror_mode": {
    "name": "ipython",
    "version": 3
   },
   "file_extension": ".py",
   "mimetype": "text/x-python",
   "name": "python",
   "nbconvert_exporter": "python",
   "pygments_lexer": "ipython3",
   "version": "3.8.20"
  }
 },
 "nbformat": 4,
 "nbformat_minor": 2
}
