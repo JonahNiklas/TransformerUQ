{
  "cells": [
    {
      "cell_type": "code",
      "execution_count": 1,
      "metadata": {},
      "outputs": [
        {
          "name": "stdout",
          "output_type": "stream",
          "text": [
            "Dummy test loss = 10.64527416229248\n",
            "Dummy test loss on own model = 10.447006225585938\n"
          ]
        },
        {
          "name": "stderr",
          "output_type": "stream",
          "text": [
            "c:\\Users\\Sondr\\TransformerUQ\\venv\\Lib\\site-packages\\torch\\nn\\functional.py:5849: UserWarning: Support for mismatched key_padding_mask and attn_mask is deprecated. Use same type for both instead.\n",
            "  warnings.warn(\n"
          ]
        }
      ],
      "source": [
        "import torch\n",
        "import torch.nn as nn\n",
        "from models.transformer_pytorch import TransformerPyTorch\n",
        "from models.transformer import Transformer\n",
        "from hyperparameters import hyperparameters\n",
        "\n",
        "vocab_size = 32000\n",
        "batch_size = 2\n",
        "seq_len = 5\n",
        "\n",
        "pytorch_model: nn.Module = TransformerPyTorch(\n",
        "    vocab_size=vocab_size,\n",
        "    d_model=hyperparameters.transformer.hidden_size,\n",
        "    num_heads=hyperparameters.transformer.num_heads,\n",
        "    d_ff=hyperparameters.transformer.encoder_ffn_embed_dim,\n",
        "    num_encoder_layers=hyperparameters.transformer.num_hidden_layers,\n",
        "    num_decoder_layers=hyperparameters.transformer.num_hidden_layers,\n",
        "    dropout=hyperparameters.transformer.dropout,\n",
        "    max_len=hyperparameters.transformer.max_len\n",
        ")\n",
        "own_model = Transformer(\n",
        "    src_vocab_size=vocab_size,\n",
        "    tgt_vocab_size=vocab_size,\n",
        "    d_model=hyperparameters.transformer.hidden_size,\n",
        "    num_heads=hyperparameters.transformer.num_heads,\n",
        "    d_ff=hyperparameters.transformer.encoder_ffn_embed_dim,\n",
        "    num_encoder_layers=hyperparameters.transformer.num_hidden_layers,\n",
        "    num_decoder_layers=hyperparameters.transformer.num_hidden_layers,\n",
        "    dropout=hyperparameters.transformer.dropout,\n",
        "    max_len=hyperparameters.transformer.max_len\n",
        ")\n",
        "criterion = nn.CrossEntropyLoss(ignore_index=0, reduction=\"mean\")\n",
        "\n",
        "# Dummy data\n",
        "src = torch.randint(1, vocab_size, (batch_size, seq_len))\n",
        "tgt = torch.randint(1, vocab_size, (batch_size, seq_len))\n",
        "\n",
        "# Ensure no zeros in the middle (just for clarity)\n",
        "# but you can keep them if you want to test pad\n",
        "decoder_in = tgt[:, :-1]\n",
        "labels = tgt[:, 1:]\n",
        "\n",
        "logits = pytorch_model(src, decoder_in)  # shape [B, T-1, vocab_size]\n",
        "logits = logits.transpose(1, 2)  # shape [B, vocab_size, T-1]\n",
        "\n",
        "loss = criterion(logits, labels)  # shape [B, T-1]\n",
        "print(\"Dummy test loss =\", loss.item())\n",
        "\n",
        "# Own model\n",
        "logits = own_model(src, decoder_in)  # shape [B, T-1, vocab_size]\n",
        "logits = logits.transpose(1, 2)  # shape [B, vocab_size, T-1]\n",
        "\n",
        "loss = criterion(logits, labels)  # shape [B, T-1]\n",
        "print(\"Dummy test loss on own model =\", loss.item())"
      ]
    },
    {
      "cell_type": "code",
      "execution_count": 4,
      "metadata": {},
      "outputs": [
        {
          "name": "stdout",
          "output_type": "stream",
          "text": [
            "Average sentence length in the dataset = 30.32287386028867\n"
          ]
        }
      ],
      "source": [
        "# Find average sentence length in the dataset\n",
        "merged_path = \"local/data/training/bpe_train.de\"\n",
        "total_len = 0\n",
        "num_lines = 0\n",
        "\n",
        "with open(merged_path, \"r\", encoding=\"utf-8\") as f:\n",
        "    for line in f:\n",
        "        total_len += len(line.split())\n",
        "        num_lines += 1\n",
        "\n",
        "avg_len = total_len / num_lines\n",
        "print(\"Average sentence length in the dataset =\", avg_len)"
      ]
    },
    {
      "cell_type": "code",
      "execution_count": 5,
      "metadata": {},
      "outputs": [
        {
          "name": "stdout",
          "output_type": "stream",
          "text": [
            "Vocab size = 32181\n"
          ]
        }
      ],
      "source": [
        "import pickle\n",
        "from vocab import Vocabulary\n",
        "\n",
        "\n",
        "vocab = pickle.load(open(\"local/vocab_shared.pkl\", \"rb\")) # type: ignore\n",
        "print(\"Vocab size =\", len(vocab))"
      ]
    },
    {
      "cell_type": "code",
      "execution_count": 1,
      "metadata": {},
      "outputs": [
        {
          "name": "stdout",
          "output_type": "stream",
          "text": [
            "tensor([1, 2, 3, 4, 5, 6, 7, 8, 9])\n",
            "tensor([[1, 2, 3],\n",
            "        [4, 5, 6],\n",
            "        [7, 8, 9]])\n"
          ]
        },
        {
          "data": {
            "text/plain": [
              "tensor([[1, 2, 3]])"
            ]
          },
          "execution_count": 1,
          "metadata": {},
          "output_type": "execute_result"
        }
      ],
      "source": [
        "import torch\n",
        "\n",
        "x = torch.tensor(\n",
        "    [\n",
        "        [1, 2, 3],\n",
        "        [4, 5, 6],\n",
        "        [7, 8, 9]\n",
        "    ]\n",
        ")\n",
        "print(x.view(-1))\n",
        "print(x.view(3, 3))\n",
        "x[:1]"
      ]
    },
    {
      "cell_type": "code",
      "execution_count": 15,
      "metadata": {},
      "outputs": [
        {
          "name": "stdout",
          "output_type": "stream",
          "text": [
            "TransformerModel (mode=eval)\n",
            "    Embedding (mode=eval)\n",
            "    Dropout (mode=eval)\n",
            "    PositionalEncoding (mode=eval)\n",
            "    Transformer (mode=eval)\n",
            "        TransformerEncoder (mode=eval)\n",
            "            ModuleList (mode=eval)\n",
            "                TransformerEncoderLayer (mode=eval)\n",
            "                    MultiheadAttention (mode=eval)\n",
            "                        NonDynamicallyQuantizableLinear (mode=eval)\n",
            "                    Linear (mode=eval)\n",
            "                    Dropout (mode=eval)\n",
            "                    Linear (mode=eval)\n",
            "                    LayerNorm (mode=eval)\n",
            "                    LayerNorm (mode=eval)\n",
            "                    Dropout (mode=eval)\n",
            "                    Dropout (mode=eval)\n",
            "                TransformerEncoderLayer (mode=eval)\n",
            "                    MultiheadAttention (mode=eval)\n",
            "                        NonDynamicallyQuantizableLinear (mode=eval)\n",
            "                    Linear (mode=eval)\n",
            "                    Dropout (mode=eval)\n",
            "                    Linear (mode=eval)\n",
            "                    LayerNorm (mode=eval)\n",
            "                    LayerNorm (mode=eval)\n",
            "                    Dropout (mode=eval)\n",
            "                    Dropout (mode=eval)\n",
            "                TransformerEncoderLayer (mode=eval)\n",
            "                    MultiheadAttention (mode=eval)\n",
            "                        NonDynamicallyQuantizableLinear (mode=eval)\n",
            "                    Linear (mode=eval)\n",
            "                    Dropout (mode=eval)\n",
            "                    Linear (mode=eval)\n",
            "                    LayerNorm (mode=eval)\n",
            "                    LayerNorm (mode=eval)\n",
            "                    Dropout (mode=eval)\n",
            "                    Dropout (mode=eval)\n",
            "                TransformerEncoderLayer (mode=eval)\n",
            "                    MultiheadAttention (mode=eval)\n",
            "                        NonDynamicallyQuantizableLinear (mode=eval)\n",
            "                    Linear (mode=eval)\n",
            "                    Dropout (mode=eval)\n",
            "                    Linear (mode=eval)\n",
            "                    LayerNorm (mode=eval)\n",
            "                    LayerNorm (mode=eval)\n",
            "                    Dropout (mode=eval)\n",
            "                    Dropout (mode=eval)\n",
            "                TransformerEncoderLayer (mode=eval)\n",
            "                    MultiheadAttention (mode=eval)\n",
            "                        NonDynamicallyQuantizableLinear (mode=eval)\n",
            "                    Linear (mode=eval)\n",
            "                    Dropout (mode=eval)\n",
            "                    Linear (mode=eval)\n",
            "                    LayerNorm (mode=eval)\n",
            "                    LayerNorm (mode=eval)\n",
            "                    Dropout (mode=eval)\n",
            "                    Dropout (mode=eval)\n",
            "                TransformerEncoderLayer (mode=eval)\n",
            "                    MultiheadAttention (mode=eval)\n",
            "                        NonDynamicallyQuantizableLinear (mode=eval)\n",
            "                    Linear (mode=eval)\n",
            "                    Dropout (mode=eval)\n",
            "                    Linear (mode=eval)\n",
            "                    LayerNorm (mode=eval)\n",
            "                    LayerNorm (mode=eval)\n",
            "                    Dropout (mode=eval)\n",
            "                    Dropout (mode=eval)\n",
            "            LayerNorm (mode=eval)\n",
            "        TransformerDecoder (mode=eval)\n",
            "            ModuleList (mode=eval)\n",
            "                TransformerDecoderLayer (mode=eval)\n",
            "                    MultiheadAttention (mode=eval)\n",
            "                        NonDynamicallyQuantizableLinear (mode=eval)\n",
            "                    MultiheadAttention (mode=eval)\n",
            "                        NonDynamicallyQuantizableLinear (mode=eval)\n",
            "                    Linear (mode=eval)\n",
            "                    Dropout (mode=eval)\n",
            "                    Linear (mode=eval)\n",
            "                    LayerNorm (mode=eval)\n",
            "                    LayerNorm (mode=eval)\n",
            "                    LayerNorm (mode=eval)\n",
            "                    Dropout (mode=eval)\n",
            "                    Dropout (mode=eval)\n",
            "                    Dropout (mode=eval)\n",
            "                TransformerDecoderLayer (mode=eval)\n",
            "                    MultiheadAttention (mode=eval)\n",
            "                        NonDynamicallyQuantizableLinear (mode=eval)\n",
            "                    MultiheadAttention (mode=eval)\n",
            "                        NonDynamicallyQuantizableLinear (mode=eval)\n",
            "                    Linear (mode=eval)\n",
            "                    Dropout (mode=eval)\n",
            "                    Linear (mode=eval)\n",
            "                    LayerNorm (mode=eval)\n",
            "                    LayerNorm (mode=eval)\n",
            "                    LayerNorm (mode=eval)\n",
            "                    Dropout (mode=eval)\n",
            "                    Dropout (mode=eval)\n",
            "                    Dropout (mode=eval)\n",
            "                TransformerDecoderLayer (mode=eval)\n",
            "                    MultiheadAttention (mode=eval)\n",
            "                        NonDynamicallyQuantizableLinear (mode=eval)\n",
            "                    MultiheadAttention (mode=eval)\n",
            "                        NonDynamicallyQuantizableLinear (mode=eval)\n",
            "                    Linear (mode=eval)\n",
            "                    Dropout (mode=eval)\n",
            "                    Linear (mode=eval)\n",
            "                    LayerNorm (mode=eval)\n",
            "                    LayerNorm (mode=eval)\n",
            "                    LayerNorm (mode=eval)\n",
            "                    Dropout (mode=eval)\n",
            "                    Dropout (mode=eval)\n",
            "                    Dropout (mode=eval)\n",
            "                TransformerDecoderLayer (mode=eval)\n",
            "                    MultiheadAttention (mode=eval)\n",
            "                        NonDynamicallyQuantizableLinear (mode=eval)\n",
            "                    MultiheadAttention (mode=eval)\n",
            "                        NonDynamicallyQuantizableLinear (mode=eval)\n",
            "                    Linear (mode=eval)\n",
            "                    Dropout (mode=eval)\n",
            "                    Linear (mode=eval)\n",
            "                    LayerNorm (mode=eval)\n",
            "                    LayerNorm (mode=eval)\n",
            "                    LayerNorm (mode=eval)\n",
            "                    Dropout (mode=eval)\n",
            "                    Dropout (mode=eval)\n",
            "                    Dropout (mode=eval)\n",
            "                TransformerDecoderLayer (mode=eval)\n",
            "                    MultiheadAttention (mode=eval)\n",
            "                        NonDynamicallyQuantizableLinear (mode=eval)\n",
            "                    MultiheadAttention (mode=eval)\n",
            "                        NonDynamicallyQuantizableLinear (mode=eval)\n",
            "                    Linear (mode=eval)\n",
            "                    Dropout (mode=train)\n",
            "                    Linear (mode=eval)\n",
            "                    LayerNorm (mode=eval)\n",
            "                    LayerNorm (mode=eval)\n",
            "                    LayerNorm (mode=eval)\n",
            "                    Dropout (mode=train)\n",
            "                    Dropout (mode=train)\n",
            "                    Dropout (mode=train)\n",
            "            LayerNorm (mode=eval)\n",
            "    Linear (mode=eval)\n"
          ]
        }
      ],
      "source": [
        "from models.transformer_model import TransformerModel\n",
        "from hyperparameters import hyperparameters\n",
        "from uq.generate_with_uq import _enable_test_time_dropout\n",
        "from torch import nn\n",
        "\n",
        "vocab_size = 32000\n",
        "\n",
        "hyperparameters.transformer.transformer_implementation = \"pytorch\"\n",
        "\n",
        "model = TransformerModel(\n",
        "    vocab_size=vocab_size,\n",
        "    d_model=hyperparameters.transformer.hidden_size,\n",
        "    num_heads=hyperparameters.transformer.num_heads,\n",
        "    d_ff=hyperparameters.transformer.encoder_ffn_embed_dim,\n",
        "    num_encoder_layers=hyperparameters.transformer.num_hidden_layers,\n",
        "    num_decoder_layers=hyperparameters.transformer.num_hidden_layers,\n",
        "    dropout=hyperparameters.transformer.dropout,\n",
        "    max_len=hyperparameters.transformer.max_len\n",
        ")\n",
        "\n",
        "model.eval()\n",
        "\n",
        "def dropout_repr(self):\n",
        "    return f\"{self.__class__.__name__}(p={self.p}, training={self.training})\"\n",
        "nn.Dropout.__repr__ = dropout_repr\n",
        "\n",
        "\n",
        "def enable_fast_test_time_dropout(model: TransformerModel) -> None:\n",
        "    \"\"\"\n",
        "    Enable dropout for the final decoder layer in the transformer.\n",
        "    \"\"\"\n",
        "    final_decoder_layer = model.transformer.decoder.layers[-1]\n",
        "    for module in final_decoder_layer.modules():\n",
        "        if isinstance(module, nn.Dropout):\n",
        "            module.train()\n",
        "\n",
        "enable_fast_test_time_dropout(model)\n",
        "\n",
        "\n",
        "def print_model_with_mode(module, indent=0):\n",
        "    prefix = ' ' * indent\n",
        "    mode = 'train' if module.training else 'eval'\n",
        "    print(f\"{prefix}{module.__class__.__name__} (mode={mode})\")\n",
        "    for name, child in module.named_children():\n",
        "        print_model_with_mode(child, indent + 4)\n",
        "\n",
        "print_model_with_mode(model)\n",
        "# model\n"
      ]
    },
    {
      "cell_type": "code",
      "execution_count": 1,
      "metadata": {},
      "outputs": [
        {
          "name": "stderr",
          "output_type": "stream",
          "text": [
            "c:\\Users\\Jonah\\Documents\\gitRepos\\TransformerUQ\\venv\\Lib\\site-packages\\tqdm\\auto.py:21: TqdmWarning: IProgress not found. Please update jupyter and ipywidgets. See https://ipywidgets.readthedocs.io/en/stable/user_install.html\n",
            "  from .autonotebook import tqdm as notebook_tqdm\n"
          ]
        },
        {
          "name": "stdout",
          "output_type": "stream",
          "text": [
            "BLEU_mean_output_batch ['Hi globe', 'dogs are cool', 'The local association W514 is once again setting out this large exhibition.']\n",
            "BLEUVariance tensor([1.9722e-31, 1.9722e-31, 1.9722e-31])\n",
            "VR_mpnet_base_distance tensor([1.8255, 1.5468, 0.6451])\n"
          ]
        }
      ],
      "source": [
        "from uq.acquisition_func import BLEU_mean_output_batch,BLEUVariance,VR_mpnet_base_distance\n",
        "import torch\n",
        "# Dummy data\n",
        "sentences = [[\"Hello world\", \"Goodbye world\", \"Hi globe\", \"Hi you are cool\",\"Hello world\"],\n",
        "             [\"dogs are cool\", \"cats are cool\", \"dogs are nice\", \"cats are cool\",\"doggie\"],\n",
        "             [\n",
        "                \"The W514 village association is once again hosting this great exhibition.\",\n",
        "                \"Once again, the local club W514 is setting out this large exhibition.\",\n",
        "                \"The local district association W514 is once again holding this large exhibition.\",\n",
        "                \"The local association W514 is once again setting out this large exhibition.\",\n",
        "                \"The W514 local association is once again organizing this large exhibition.\"\n",
        "             ],             \n",
        "            ]\n",
        "bv=BLEUVariance()\n",
        "vr=VR_mpnet_base_distance()\n",
        "print(\"BLEU_mean_output_batch\",BLEU_mean_output_batch(sentences))\n",
        "print(\"BLEUVariance\",bv(sentences,torch.zeros(2)))\n",
        "print(\"VR_mpnet_base_distance\",vr(sentences,torch.zeros(2)))\n"
      ]
    },
    {
      "cell_type": "code",
      "execution_count": 6,
      "metadata": {},
      "outputs": [
        {
          "name": "stdout",
          "output_type": "stream",
          "text": [
            "loading weights from pretrained gpt: gpt2\n"
          ]
        }
      ],
      "source": [
        "import tiktoken\n",
        "from gpt2project.data_processing.load_commongen import generate_input_text\n",
        "from gpt2project.gpt2model import GPT\n",
        "from gpt2project.gpt2_generate import generate_autoregressivly_gpt2\n",
        "import torch\n",
        "\n",
        "from gpt2project.utils.decode import decode_token_list\n",
        "\n",
        "model = GPT.from_pretrained(\"gpt2\")\n",
        "model.eval()\n",
        "prompt = generate_input_text([\"car\", \"fast\", \"park\"])\n",
        "tokenizer = tiktoken.get_encoding(\"gpt2\")\n"
      ]
    },
    {
      "cell_type": "code",
      "execution_count": 7,
      "metadata": {},
      "outputs": [
        {
          "name": "stdout",
          "output_type": "stream",
          "text": [
            "Task: Generate a meaningful sentence using the provided words.\n",
            "\n",
            "Example 1:\n",
            "Words: field, look, stand.\n",
            "Sentence: The player stood in the field looking at the batter.\n",
            "\n",
            "Example 2:\n",
            "Words: climb, building, side.\n",
            "Sentence: I climbed the side of the building.\n",
            "\n",
            "Now try:\n",
            "Words: car, fast, park.\n",
            "Sentence:\n",
            "\u001b[91m I climbed the side of the building.\n",
            "\u001b[0m\n",
            "\u001b[92m I climbed the side of the building.\n",
            "\u001b[0m\n",
            "\u001b[93m I climbed the side of the car.\n",
            "\u001b[0m\n",
            "\u001b[94m I was driving fast.\n",
            "\u001b[0m\n",
            "\u001b[95m The player was fast.\n",
            "\u001b[0m\n",
            "\u001b[96m I climbed the car fast.\n",
            "\u001b[0m\n",
            "\u001b[91m I climbed the side of the car.\n",
            "\u001b[0m\n",
            "\u001b[92m I parked the car.\n",
            "\u001b[0m\n",
            "\u001b[93m I'm going to park.\n",
            "\u001b[0m\n",
            "\u001b[94m I I climbed the car.\n",
            "\u001b[0m\n"
          ]
        }
      ],
      "source": [
        "from gpt2project.search_methods_gpt import (\n",
        "    AutoregressiveInferenceResults,\n",
        "    _clean_inference_results,\n",
        "    greedy_search_gpt,\n",
        ")\n",
        "import torch.nn as nn\n",
        "from gpt2project.utils.decode import decode_token_id_batch\n",
        "from gpt2project.utils.print_generated_text import print_generated_text_with_colors\n",
        "from hyperparameters import hyperparameters\n",
        "from uq.generate_with_uq import _enable_test_time_dropout\n",
        "\n",
        "_enable_test_time_dropout(model)\n",
        "\n",
        "tgt_tokens = torch.tensor(tokenizer.encode(prompt)).unsqueeze(0)\n",
        "results = [\n",
        "    generate_autoregressivly_gpt2(\n",
        "        model, tokenizer, tgt_tokens, greedy_search_gpt, break_on_newline=True\n",
        "    )\n",
        "    for _ in range(10)\n",
        "]\n",
        "results = [result.token_ids.squeeze(0).cpu() for result in results]\n",
        "generated_text = decode_token_id_batch(results, tokenizer)\n",
        "print_generated_text_with_colors(generated_text, prompt)"
      ]
    },
    {
      "cell_type": "code",
      "execution_count": 5,
      "metadata": {},
      "outputs": [
        {
          "data": {
            "text/plain": [
              "'Task: Generate a meaningful sentence using the provided words.\\n\\nExample 1:\\nWords: field, look, stand.\\nSentence: The player stood in the field looking at the batter.\\n\\nExample 2:\\nWords: climb, building, side.\\nSentence: I climbed the side of the building.\\n\\nNow try:\\nWords: however, transmitter, arbitrary.\\nSentence:'"
            ]
          },
          "execution_count": 5,
          "metadata": {},
          "output_type": "execute_result"
        }
      ],
      "source": [
        "prompt"
      ]
    },
    {
      "cell_type": "code",
      "execution_count": 65,
      "metadata": {},
      "outputs": [
        {
          "data": {
            "text/html": [
              "Tracking run with wandb version 0.19.8"
            ],
            "text/plain": [
              "<IPython.core.display.HTML object>"
            ]
          },
          "metadata": {},
          "output_type": "display_data"
        },
        {
          "data": {
            "text/html": [
              "Run data is saved locally in <code>/tmp/wandb/run-20250321_154151-k4egbiuj</code>"
            ],
            "text/plain": [
              "<IPython.core.display.HTML object>"
            ]
          },
          "metadata": {},
          "output_type": "display_data"
        },
        {
          "data": {
            "text/html": [
              "Syncing run <strong><a href='https://wandb.ai/sondresorbye-magson/GPT2Project/runs/k4egbiuj' target=\"_blank\">mild-meadow-33</a></strong> to <a href='https://wandb.ai/sondresorbye-magson/GPT2Project' target=\"_blank\">Weights & Biases</a> (<a href='https://wandb.me/developer-guide' target=\"_blank\">docs</a>)<br>"
            ],
            "text/plain": [
              "<IPython.core.display.HTML object>"
            ]
          },
          "metadata": {},
          "output_type": "display_data"
        },
        {
          "data": {
            "text/html": [
              " View project at <a href='https://wandb.ai/sondresorbye-magson/GPT2Project' target=\"_blank\">https://wandb.ai/sondresorbye-magson/GPT2Project</a>"
            ],
            "text/plain": [
              "<IPython.core.display.HTML object>"
            ]
          },
          "metadata": {},
          "output_type": "display_data"
        },
        {
          "data": {
            "text/html": [
              " View run at <a href='https://wandb.ai/sondresorbye-magson/GPT2Project/runs/k4egbiuj' target=\"_blank\">https://wandb.ai/sondresorbye-magson/GPT2Project/runs/k4egbiuj</a>"
            ],
            "text/plain": [
              "<IPython.core.display.HTML object>"
            ]
          },
          "metadata": {},
          "output_type": "display_data"
        },
        {
          "name": "stdout",
          "output_type": "stream",
          "text": [
            "Current step of run: 0\n"
          ]
        },
        {
          "data": {
            "text/html": [],
            "text/plain": [
              "<IPython.core.display.HTML object>"
            ]
          },
          "metadata": {},
          "output_type": "display_data"
        },
        {
          "data": {
            "text/html": [
              " View run <strong style=\"color:#cdcd00\">mild-meadow-33</strong> at: <a href='https://wandb.ai/sondresorbye-magson/GPT2Project/runs/k4egbiuj' target=\"_blank\">https://wandb.ai/sondresorbye-magson/GPT2Project/runs/k4egbiuj</a><br> View project at: <a href='https://wandb.ai/sondresorbye-magson/GPT2Project' target=\"_blank\">https://wandb.ai/sondresorbye-magson/GPT2Project</a><br>Synced 5 W&B file(s), 1 media file(s), 3 artifact file(s) and 0 other file(s)"
            ],
            "text/plain": [
              "<IPython.core.display.HTML object>"
            ]
          },
          "metadata": {},
          "output_type": "display_data"
        },
        {
          "data": {
            "text/html": [
              "Find logs at: <code>/tmp/wandb/run-20250321_154151-k4egbiuj/logs</code>"
            ],
            "text/plain": [
              "<IPython.core.display.HTML object>"
            ]
          },
          "metadata": {},
          "output_type": "display_data"
        }
      ],
      "source": [
        "import numpy as np\n",
        "import wandb\n",
        "import matplotlib.pyplot as plt\n",
        "\n",
        "# Resume your existing run\n",
        "wandb.init(\n",
        "    project=\"GPT2Project\",\n",
        "    resume=\"never\",\n",
        "    group=\"evaluation\",\n",
        "    dir=\"test-wandb\",\n",
        "    job_type=\"evaluation\",\n",
        ")\n",
        "\n",
        "assert wandb.run is not None\n",
        "current_step_of_run = wandb.run.step\n",
        "print(f\"Current step of run: {current_step_of_run}\")\n",
        "\n",
        "# Create your data\n",
        "y = list(range(11, 1, -1))\n",
        "y = np.array(y) * 100\n",
        "x = list(range(1, 11))\n",
        "\n",
        "# Create a matplotlib plot\n",
        "plt.figure(figsize=(10, 6))\n",
        "plt.plot(x, y, marker=\"o\", linestyle=\"-\", color=\"blue\")\n",
        "plt.title(\"Retention Curve\")\n",
        "plt.xlabel(\"Number of Samples\")\n",
        "plt.ylabel(\"Evaluation Score\")\n",
        "plt.grid(True)\n",
        "\n",
        "# Save the figure to a temporary file\n",
        "plt_filename = \"retention_curve.png\"\n",
        "plt.savefig(plt_filename)\n",
        "plt.close()\n",
        "\n",
        "# Create a table with benchmark name and image\n",
        "table = wandb.Table(columns=[\"benchmark_name\", \"plot\", \"max_score\", \"min_score\"])\n",
        "\n",
        "# Add a row to the table with benchmark name and image\n",
        "benchmark_name = \"GPT2 Evaluation\"\n",
        "max_score = y.max()\n",
        "min_score = y.min()\n",
        "table.add_data(benchmark_name, wandb.Image(plt_filename), max_score, min_score)\n",
        "\n",
        "# Log the table to W&B\n",
        "wandb.log({\"benchmark_results\": table})\n",
        "\n",
        "# Also add to summary to make it appear on the dashboard\n",
        "# wandb.run.summary[\"benchmark_table\"] = table\n",
        "\n",
        "# Also save the image directly\n",
        "# wandb.save(plt_filename)\n",
        "\n",
        "wandb.finish()"
      ]
    },
    {
      "cell_type": "code",
      "execution_count": 71,
      "metadata": {},
      "outputs": [
        {
          "data": {
            "application/vnd.jupyter.widget-view+json": {
              "model_id": "d0b4333af8044153b69ad63b13261dfa",
              "version_major": 2,
              "version_minor": 0
            },
            "text/plain": [
              "HBox(children=(Text(value='plot_export.svg', description='Filename:', placeholder='filename.svg'), Button(butt…"
            ]
          },
          "metadata": {},
          "output_type": "display_data"
        },
        {
          "data": {
            "application/vnd.jupyter.widget-view+json": {
              "model_id": "452d4ff7d85640bf87586d7378bbe4bd",
              "version_major": 2,
              "version_minor": 0
            },
            "text/plain": [
              "interactive(children=(SelectMultiple(description='Models', index=(0, 1, 2), options=('Model A', 'Model B', 'Mo…"
            ]
          },
          "metadata": {},
          "output_type": "display_data"
        },
        {
          "data": {
            "application/vnd.jupyter.widget-view+json": {
              "model_id": "de4490a9d5914376b6559d93e4f7283b",
              "version_major": 2,
              "version_minor": 0
            },
            "text/plain": [
              "Output()"
            ]
          },
          "metadata": {},
          "output_type": "display_data"
        },
        {
          "name": "stdout",
          "output_type": "stream",
          "text": [
            "Plot exported to plot_export.svg\n",
            "Plot exported to plot_export.svg\n"
          ]
        }
      ],
      "source": [
        "import matplotlib.pyplot as plt\n",
        "import pandas as pd\n",
        "import numpy as np\n",
        "import ipywidgets as widgets\n",
        "from IPython.display import display, clear_output\n",
        "\n",
        "# Generate sample data\n",
        "np.random.seed(0)\n",
        "steps = np.arange(0, 100)\n",
        "model_types = ['Model A', 'Model B', 'Model C']\n",
        "acquisition_functions = ['BeamScore', 'BALD', 'BLEUVar', 'mpnet_cosine']\n",
        "evaluation_functions = ['F1Eval', 'BLEU_eval', 'TargetUsageEval', 'ConceptUsageEval']\n",
        "\n",
        "# Create more complex data structure with multiple dimensions\n",
        "data = []\n",
        "for model in model_types:\n",
        "    for aq_func in acquisition_functions:\n",
        "        for eval_func in evaluation_functions:\n",
        "            # Create slightly different random patterns for each combination\n",
        "            base = np.cumsum(np.random.randn(len(steps)))\n",
        "            # Add some characteristic patterns based on the function types\n",
        "            if aq_func == 'BALD':\n",
        "                base += 2\n",
        "            elif aq_func == 'BLEUVar':\n",
        "                base -= 1\n",
        "            \n",
        "            if eval_func == 'BLEU_eval':\n",
        "                base *= 1.2\n",
        "            elif eval_func == 'ConceptUsageEval':\n",
        "                base *= 0.8\n",
        "                \n",
        "            data.append(pd.DataFrame({\n",
        "                'step': steps, \n",
        "                'value': base, \n",
        "                'model': model,\n",
        "                'acquisition_function': aq_func,\n",
        "                'evaluation_function': eval_func\n",
        "            }))\n",
        "            \n",
        "df = pd.concat(data)\n",
        "\n",
        "# Create widgets for filtering\n",
        "model_selector = widgets.SelectMultiple(\n",
        "    options=model_types,\n",
        "    value=model_types,  # default: show all\n",
        "    description='Models',\n",
        "    disabled=False\n",
        ")\n",
        "\n",
        "acquisition_selector = widgets.SelectMultiple(\n",
        "    options=acquisition_functions,\n",
        "    value=[acquisition_functions[0]],  # default: first one\n",
        "    description='Acquisition',\n",
        "    disabled=False\n",
        ")\n",
        "\n",
        "evaluation_selector = widgets.SelectMultiple(\n",
        "    options=evaluation_functions,\n",
        "    value=[evaluation_functions[0]],  # default: first one\n",
        "    description='Evaluation',\n",
        "    disabled=False\n",
        ")\n",
        "\n",
        "# Add title input\n",
        "title_input = widgets.Text(\n",
        "    value='Benchmark Retention Curve',\n",
        "    placeholder='Enter plot title',\n",
        "    description='Title:',\n",
        "    disabled=False\n",
        ")\n",
        "\n",
        "# Add export button\n",
        "export_button = widgets.Button(\n",
        "    description='Export to SVG',\n",
        "    disabled=False,\n",
        "    button_style='success',\n",
        "    tooltip='Export current plot to SVG file'\n",
        ")\n",
        "\n",
        "output_filename = widgets.Text(\n",
        "    value='plot_export.svg',\n",
        "    placeholder='filename.svg',\n",
        "    description='Filename:',\n",
        "    disabled=False\n",
        ")\n",
        "\n",
        "# Create output area for the plot\n",
        "plot_output = widgets.Output()\n",
        "\n",
        "def create_plot(selected_models, selected_acquisitions, selected_evaluations, plot_title):\n",
        "    fig = plt.figure(figsize=(10, 6))\n",
        "    \n",
        "    # Filter data based on all selections\n",
        "    for model in selected_models:\n",
        "        for aq_func in selected_acquisitions:\n",
        "            for eval_func in selected_evaluations:\n",
        "                filtered_df = df[(df['model'] == model) & \n",
        "                                 (df['acquisition_function'] == aq_func) &\n",
        "                                 (df['evaluation_function'] == eval_func)]\n",
        "                \n",
        "                if not filtered_df.empty:\n",
        "                    label = f\"{model} - {aq_func} - {eval_func}\"\n",
        "                    plt.plot(filtered_df['step'], filtered_df['value'], label=label)\n",
        "    \n",
        "    plt.xlabel('Number of Samples')\n",
        "    plt.ylabel('Evaluation Score')\n",
        "    plt.title(plot_title)\n",
        "    plt.legend(bbox_to_anchor=(1.05, 1), loc='upper left')\n",
        "    plt.tight_layout()\n",
        "    plt.grid(True, linestyle='--', alpha=0.7)\n",
        "    return fig\n",
        "\n",
        "def update_plot(selected_models, selected_acquisitions, selected_evaluations, plot_title):\n",
        "    with plot_output:\n",
        "        clear_output(wait=True)\n",
        "        fig = create_plot(selected_models, selected_acquisitions, selected_evaluations, plot_title)\n",
        "        plt.show()\n",
        "\n",
        "# Export function\n",
        "def export_svg(b):\n",
        "    fig = create_plot(\n",
        "        model_selector.value,\n",
        "        acquisition_selector.value,\n",
        "        evaluation_selector.value,\n",
        "        title_input.value\n",
        "    )\n",
        "    filename = output_filename.value\n",
        "    if not filename.endswith('.svg'):\n",
        "        filename += '.svg'\n",
        "    fig.savefig(filename, format='svg', bbox_inches='tight')\n",
        "    plt.close(fig)\n",
        "    print(f\"Plot exported to {filename}\")\n",
        "\n",
        "# Connect the button to the export function\n",
        "export_button.on_click(export_svg)\n",
        "\n",
        "# Display the export controls\n",
        "export_controls = widgets.HBox([output_filename, export_button])\n",
        "display(export_controls)\n",
        "\n",
        "# Use interactive to update the plot when any selection changes\n",
        "interactive_plot = widgets.interactive(\n",
        "    update_plot, \n",
        "    selected_models=model_selector,\n",
        "    selected_acquisitions=acquisition_selector,\n",
        "    selected_evaluations=evaluation_selector,\n",
        "    plot_title=title_input\n",
        ")\n",
        "\n",
        "display(interactive_plot)\n",
        "display(plot_output)\n"
      ]
    }
  ],
  "metadata": {
    "kernelspec": {
      "display_name": "venv",
      "language": "python",
      "name": "python3"
    },
    "language_info": {
      "codemirror_mode": {
        "name": "ipython",
        "version": 3
      },
      "file_extension": ".py",
      "mimetype": "text/x-python",
      "name": "python",
      "nbconvert_exporter": "python",
      "pygments_lexer": "ipython3",
      "version": "3.12.3"
    }
  },
  "nbformat": 4,
  "nbformat_minor": 2
}
