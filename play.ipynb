{
  "cells": [
    {
      "cell_type": "code",
      "execution_count": 1,
      "metadata": {},
      "outputs": [
        {
          "name": "stdout",
          "output_type": "stream",
          "text": [
            "Dummy test loss = 10.64527416229248\n",
            "Dummy test loss on own model = 10.447006225585938\n"
          ]
        },
        {
          "name": "stderr",
          "output_type": "stream",
          "text": [
            "c:\\Users\\Sondr\\TransformerUQ\\venv\\Lib\\site-packages\\torch\\nn\\functional.py:5849: UserWarning: Support for mismatched key_padding_mask and attn_mask is deprecated. Use same type for both instead.\n",
            "  warnings.warn(\n"
          ]
        }
      ],
      "source": [
        "import torch\n",
        "import torch.nn as nn\n",
        "from models.transformer_pytorch import TransformerPyTorch\n",
        "from models.transformer import Transformer\n",
        "from hyperparameters import hyperparameters\n",
        "\n",
        "vocab_size = 32000\n",
        "batch_size = 2\n",
        "seq_len = 5\n",
        "\n",
        "pytorch_model: nn.Module = TransformerPyTorch(\n",
        "    vocab_size=vocab_size,\n",
        "    d_model=hyperparameters.transformer.hidden_size,\n",
        "    num_heads=hyperparameters.transformer.num_heads,\n",
        "    d_ff=hyperparameters.transformer.encoder_ffn_embed_dim,\n",
        "    num_encoder_layers=hyperparameters.transformer.num_hidden_layers,\n",
        "    num_decoder_layers=hyperparameters.transformer.num_hidden_layers,\n",
        "    dropout=hyperparameters.transformer.dropout,\n",
        "    max_len=hyperparameters.transformer.max_len\n",
        ")\n",
        "own_model = Transformer(\n",
        "    src_vocab_size=vocab_size,\n",
        "    tgt_vocab_size=vocab_size,\n",
        "    d_model=hyperparameters.transformer.hidden_size,\n",
        "    num_heads=hyperparameters.transformer.num_heads,\n",
        "    d_ff=hyperparameters.transformer.encoder_ffn_embed_dim,\n",
        "    num_encoder_layers=hyperparameters.transformer.num_hidden_layers,\n",
        "    num_decoder_layers=hyperparameters.transformer.num_hidden_layers,\n",
        "    dropout=hyperparameters.transformer.dropout,\n",
        "    max_len=hyperparameters.transformer.max_len\n",
        ")\n",
        "criterion = nn.CrossEntropyLoss(ignore_index=0, reduction=\"mean\")\n",
        "\n",
        "# Dummy data\n",
        "src = torch.randint(1, vocab_size, (batch_size, seq_len))\n",
        "tgt = torch.randint(1, vocab_size, (batch_size, seq_len))\n",
        "\n",
        "# Ensure no zeros in the middle (just for clarity)\n",
        "# but you can keep them if you want to test pad\n",
        "decoder_in = tgt[:, :-1]\n",
        "labels = tgt[:, 1:]\n",
        "\n",
        "logits = pytorch_model(src, decoder_in)  # shape [B, T-1, vocab_size]\n",
        "logits = logits.transpose(1, 2)  # shape [B, vocab_size, T-1]\n",
        "\n",
        "loss = criterion(logits, labels)  # shape [B, T-1]\n",
        "print(\"Dummy test loss =\", loss.item())\n",
        "\n",
        "# Own model\n",
        "logits = own_model(src, decoder_in)  # shape [B, T-1, vocab_size]\n",
        "logits = logits.transpose(1, 2)  # shape [B, vocab_size, T-1]\n",
        "\n",
        "loss = criterion(logits, labels)  # shape [B, T-1]\n",
        "print(\"Dummy test loss on own model =\", loss.item())"
      ]
    },
    {
      "cell_type": "code",
      "execution_count": 4,
      "metadata": {},
      "outputs": [
        {
          "name": "stdout",
          "output_type": "stream",
          "text": [
            "Average sentence length in the dataset = 30.32287386028867\n"
          ]
        }
      ],
      "source": [
        "# Find average sentence length in the dataset\n",
        "merged_path = \"local/data/training/bpe_train.de\"\n",
        "total_len = 0\n",
        "num_lines = 0\n",
        "\n",
        "with open(merged_path, \"r\", encoding=\"utf-8\") as f:\n",
        "    for line in f:\n",
        "        total_len += len(line.split())\n",
        "        num_lines += 1\n",
        "\n",
        "avg_len = total_len / num_lines\n",
        "print(\"Average sentence length in the dataset =\", avg_len)"
      ]
    },
    {
      "cell_type": "code",
      "execution_count": 5,
      "metadata": {},
      "outputs": [
        {
          "name": "stdout",
          "output_type": "stream",
          "text": [
            "Vocab size = 32181\n"
          ]
        }
      ],
      "source": [
        "import pickle\n",
        "from vocab import Vocabulary\n",
        "\n",
        "\n",
        "vocab = pickle.load(open(\"local/vocab_shared.pkl\", \"rb\")) # type: ignore\n",
        "print(\"Vocab size =\", len(vocab))"
      ]
    },
    {
      "cell_type": "code",
      "execution_count": 1,
      "metadata": {},
      "outputs": [
        {
          "name": "stdout",
          "output_type": "stream",
          "text": [
            "tensor([1, 2, 3, 4, 5, 6, 7, 8, 9])\n",
            "tensor([[1, 2, 3],\n",
            "        [4, 5, 6],\n",
            "        [7, 8, 9]])\n"
          ]
        },
        {
          "data": {
            "text/plain": [
              "tensor([[1, 2, 3]])"
            ]
          },
          "execution_count": 1,
          "metadata": {},
          "output_type": "execute_result"
        }
      ],
      "source": [
        "import torch\n",
        "\n",
        "x = torch.tensor(\n",
        "    [\n",
        "        [1, 2, 3],\n",
        "        [4, 5, 6],\n",
        "        [7, 8, 9]\n",
        "    ]\n",
        ")\n",
        "print(x.view(-1))\n",
        "print(x.view(3, 3))\n",
        "x[:1]"
      ]
    },
    {
      "cell_type": "code",
      "execution_count": 15,
      "metadata": {},
      "outputs": [
        {
          "name": "stdout",
          "output_type": "stream",
          "text": [
            "TransformerModel (mode=eval)\n",
            "    Embedding (mode=eval)\n",
            "    Dropout (mode=eval)\n",
            "    PositionalEncoding (mode=eval)\n",
            "    Transformer (mode=eval)\n",
            "        TransformerEncoder (mode=eval)\n",
            "            ModuleList (mode=eval)\n",
            "                TransformerEncoderLayer (mode=eval)\n",
            "                    MultiheadAttention (mode=eval)\n",
            "                        NonDynamicallyQuantizableLinear (mode=eval)\n",
            "                    Linear (mode=eval)\n",
            "                    Dropout (mode=eval)\n",
            "                    Linear (mode=eval)\n",
            "                    LayerNorm (mode=eval)\n",
            "                    LayerNorm (mode=eval)\n",
            "                    Dropout (mode=eval)\n",
            "                    Dropout (mode=eval)\n",
            "                TransformerEncoderLayer (mode=eval)\n",
            "                    MultiheadAttention (mode=eval)\n",
            "                        NonDynamicallyQuantizableLinear (mode=eval)\n",
            "                    Linear (mode=eval)\n",
            "                    Dropout (mode=eval)\n",
            "                    Linear (mode=eval)\n",
            "                    LayerNorm (mode=eval)\n",
            "                    LayerNorm (mode=eval)\n",
            "                    Dropout (mode=eval)\n",
            "                    Dropout (mode=eval)\n",
            "                TransformerEncoderLayer (mode=eval)\n",
            "                    MultiheadAttention (mode=eval)\n",
            "                        NonDynamicallyQuantizableLinear (mode=eval)\n",
            "                    Linear (mode=eval)\n",
            "                    Dropout (mode=eval)\n",
            "                    Linear (mode=eval)\n",
            "                    LayerNorm (mode=eval)\n",
            "                    LayerNorm (mode=eval)\n",
            "                    Dropout (mode=eval)\n",
            "                    Dropout (mode=eval)\n",
            "                TransformerEncoderLayer (mode=eval)\n",
            "                    MultiheadAttention (mode=eval)\n",
            "                        NonDynamicallyQuantizableLinear (mode=eval)\n",
            "                    Linear (mode=eval)\n",
            "                    Dropout (mode=eval)\n",
            "                    Linear (mode=eval)\n",
            "                    LayerNorm (mode=eval)\n",
            "                    LayerNorm (mode=eval)\n",
            "                    Dropout (mode=eval)\n",
            "                    Dropout (mode=eval)\n",
            "                TransformerEncoderLayer (mode=eval)\n",
            "                    MultiheadAttention (mode=eval)\n",
            "                        NonDynamicallyQuantizableLinear (mode=eval)\n",
            "                    Linear (mode=eval)\n",
            "                    Dropout (mode=eval)\n",
            "                    Linear (mode=eval)\n",
            "                    LayerNorm (mode=eval)\n",
            "                    LayerNorm (mode=eval)\n",
            "                    Dropout (mode=eval)\n",
            "                    Dropout (mode=eval)\n",
            "                TransformerEncoderLayer (mode=eval)\n",
            "                    MultiheadAttention (mode=eval)\n",
            "                        NonDynamicallyQuantizableLinear (mode=eval)\n",
            "                    Linear (mode=eval)\n",
            "                    Dropout (mode=eval)\n",
            "                    Linear (mode=eval)\n",
            "                    LayerNorm (mode=eval)\n",
            "                    LayerNorm (mode=eval)\n",
            "                    Dropout (mode=eval)\n",
            "                    Dropout (mode=eval)\n",
            "            LayerNorm (mode=eval)\n",
            "        TransformerDecoder (mode=eval)\n",
            "            ModuleList (mode=eval)\n",
            "                TransformerDecoderLayer (mode=eval)\n",
            "                    MultiheadAttention (mode=eval)\n",
            "                        NonDynamicallyQuantizableLinear (mode=eval)\n",
            "                    MultiheadAttention (mode=eval)\n",
            "                        NonDynamicallyQuantizableLinear (mode=eval)\n",
            "                    Linear (mode=eval)\n",
            "                    Dropout (mode=eval)\n",
            "                    Linear (mode=eval)\n",
            "                    LayerNorm (mode=eval)\n",
            "                    LayerNorm (mode=eval)\n",
            "                    LayerNorm (mode=eval)\n",
            "                    Dropout (mode=eval)\n",
            "                    Dropout (mode=eval)\n",
            "                    Dropout (mode=eval)\n",
            "                TransformerDecoderLayer (mode=eval)\n",
            "                    MultiheadAttention (mode=eval)\n",
            "                        NonDynamicallyQuantizableLinear (mode=eval)\n",
            "                    MultiheadAttention (mode=eval)\n",
            "                        NonDynamicallyQuantizableLinear (mode=eval)\n",
            "                    Linear (mode=eval)\n",
            "                    Dropout (mode=eval)\n",
            "                    Linear (mode=eval)\n",
            "                    LayerNorm (mode=eval)\n",
            "                    LayerNorm (mode=eval)\n",
            "                    LayerNorm (mode=eval)\n",
            "                    Dropout (mode=eval)\n",
            "                    Dropout (mode=eval)\n",
            "                    Dropout (mode=eval)\n",
            "                TransformerDecoderLayer (mode=eval)\n",
            "                    MultiheadAttention (mode=eval)\n",
            "                        NonDynamicallyQuantizableLinear (mode=eval)\n",
            "                    MultiheadAttention (mode=eval)\n",
            "                        NonDynamicallyQuantizableLinear (mode=eval)\n",
            "                    Linear (mode=eval)\n",
            "                    Dropout (mode=eval)\n",
            "                    Linear (mode=eval)\n",
            "                    LayerNorm (mode=eval)\n",
            "                    LayerNorm (mode=eval)\n",
            "                    LayerNorm (mode=eval)\n",
            "                    Dropout (mode=eval)\n",
            "                    Dropout (mode=eval)\n",
            "                    Dropout (mode=eval)\n",
            "                TransformerDecoderLayer (mode=eval)\n",
            "                    MultiheadAttention (mode=eval)\n",
            "                        NonDynamicallyQuantizableLinear (mode=eval)\n",
            "                    MultiheadAttention (mode=eval)\n",
            "                        NonDynamicallyQuantizableLinear (mode=eval)\n",
            "                    Linear (mode=eval)\n",
            "                    Dropout (mode=eval)\n",
            "                    Linear (mode=eval)\n",
            "                    LayerNorm (mode=eval)\n",
            "                    LayerNorm (mode=eval)\n",
            "                    LayerNorm (mode=eval)\n",
            "                    Dropout (mode=eval)\n",
            "                    Dropout (mode=eval)\n",
            "                    Dropout (mode=eval)\n",
            "                TransformerDecoderLayer (mode=eval)\n",
            "                    MultiheadAttention (mode=eval)\n",
            "                        NonDynamicallyQuantizableLinear (mode=eval)\n",
            "                    MultiheadAttention (mode=eval)\n",
            "                        NonDynamicallyQuantizableLinear (mode=eval)\n",
            "                    Linear (mode=eval)\n",
            "                    Dropout (mode=train)\n",
            "                    Linear (mode=eval)\n",
            "                    LayerNorm (mode=eval)\n",
            "                    LayerNorm (mode=eval)\n",
            "                    LayerNorm (mode=eval)\n",
            "                    Dropout (mode=train)\n",
            "                    Dropout (mode=train)\n",
            "                    Dropout (mode=train)\n",
            "            LayerNorm (mode=eval)\n",
            "    Linear (mode=eval)\n"
          ]
        }
      ],
      "source": [
        "from models.transformer_model import TransformerModel\n",
        "from hyperparameters import hyperparameters\n",
        "from uq.generate_with_uq import _enable_test_time_dropout\n",
        "from torch import nn\n",
        "\n",
        "vocab_size = 32000\n",
        "\n",
        "hyperparameters.transformer.transformer_implementation = \"pytorch\"\n",
        "\n",
        "model = TransformerModel(\n",
        "    vocab_size=vocab_size,\n",
        "    d_model=hyperparameters.transformer.hidden_size,\n",
        "    num_heads=hyperparameters.transformer.num_heads,\n",
        "    d_ff=hyperparameters.transformer.encoder_ffn_embed_dim,\n",
        "    num_encoder_layers=hyperparameters.transformer.num_hidden_layers,\n",
        "    num_decoder_layers=hyperparameters.transformer.num_hidden_layers,\n",
        "    dropout=hyperparameters.transformer.dropout,\n",
        "    max_len=hyperparameters.transformer.max_len\n",
        ")\n",
        "\n",
        "model.eval()\n",
        "\n",
        "def dropout_repr(self):\n",
        "    return f\"{self.__class__.__name__}(p={self.p}, training={self.training})\"\n",
        "nn.Dropout.__repr__ = dropout_repr\n",
        "\n",
        "\n",
        "def enable_fast_test_time_dropout(model: TransformerModel) -> None:\n",
        "    \"\"\"\n",
        "    Enable dropout for the final decoder layer in the transformer.\n",
        "    \"\"\"\n",
        "    final_decoder_layer = model.transformer.decoder.layers[-1]\n",
        "    for module in final_decoder_layer.modules():\n",
        "        if isinstance(module, nn.Dropout):\n",
        "            module.train()\n",
        "\n",
        "enable_fast_test_time_dropout(model)\n",
        "\n",
        "\n",
        "def print_model_with_mode(module, indent=0):\n",
        "    prefix = ' ' * indent\n",
        "    mode = 'train' if module.training else 'eval'\n",
        "    print(f\"{prefix}{module.__class__.__name__} (mode={mode})\")\n",
        "    for name, child in module.named_children():\n",
        "        print_model_with_mode(child, indent + 4)\n",
        "\n",
        "print_model_with_mode(model)\n",
        "# model\n"
      ]
    },
    {
      "cell_type": "code",
      "execution_count": 1,
      "metadata": {},
      "outputs": [
        {
          "name": "stderr",
          "output_type": "stream",
          "text": [
            "c:\\Users\\Jonah\\Documents\\gitRepos\\TransformerUQ\\venv\\Lib\\site-packages\\tqdm\\auto.py:21: TqdmWarning: IProgress not found. Please update jupyter and ipywidgets. See https://ipywidgets.readthedocs.io/en/stable/user_install.html\n",
            "  from .autonotebook import tqdm as notebook_tqdm\n"
          ]
        },
        {
          "name": "stdout",
          "output_type": "stream",
          "text": [
            "BLEU_mean_output_batch ['Hi globe', 'dogs are cool', 'The local association W514 is once again setting out this large exhibition.']\n",
            "BLEUVariance tensor([1.9722e-31, 1.9722e-31, 1.9722e-31])\n",
            "VR_mpnet_base_distance tensor([1.8255, 1.5468, 0.6451])\n"
          ]
        }
      ],
      "source": [
        "from uq.acquisition_func import BLEU_mean_output_batch,BLEUVariance,VR_mpnet_base_distance\n",
        "import torch\n",
        "# Dummy data\n",
        "sentences = [[\"Hello world\", \"Goodbye world\", \"Hi globe\", \"Hi you are cool\",\"Hello world\"],\n",
        "             [\"dogs are cool\", \"cats are cool\", \"dogs are nice\", \"cats are cool\",\"doggie\"],\n",
        "             [\n",
        "                \"The W514 village association is once again hosting this great exhibition.\",\n",
        "                \"Once again, the local club W514 is setting out this large exhibition.\",\n",
        "                \"The local district association W514 is once again holding this large exhibition.\",\n",
        "                \"The local association W514 is once again setting out this large exhibition.\",\n",
        "                \"The W514 local association is once again organizing this large exhibition.\"\n",
        "             ],             \n",
        "            ]\n",
        "bv=BLEUVariance()\n",
        "vr=VR_mpnet_base_distance()\n",
        "print(\"BLEU_mean_output_batch\",BLEU_mean_output_batch(sentences))\n",
        "print(\"BLEUVariance\",bv(sentences,torch.zeros(2)))\n",
        "print(\"VR_mpnet_base_distance\",vr(sentences,torch.zeros(2)))\n"
      ]
    },
    {
      "cell_type": "code",
      "execution_count": null,
      "metadata": {},
      "outputs": [
        {
          "name": "stdout",
          "output_type": "stream",
          "text": [
            "using device: cuda\n",
            "loading weights from pretrained gpt: gpt2\n"
          ]
        }
      ],
      "source": [
        "import tiktoken\n",
        "from gpt2project.data_processing.load_commongen import generate_input_text\n",
        "from gpt2project.gpt2model import GPT\n",
        "from gpt2project.gpt2_generate import generate_autoregressivly_gpt2\n",
        "import torch\n",
        "\n",
        "from gpt2project.utils.decode import decode_token_list\n",
        "\n",
        "model = GPT.from_pretrained(\"gpt2\").cuda()\n",
        "model.eval()\n",
        "prompt = generate_input_text([\"dog\", \"cat\", \"mouse\"])\n",
        "tokenizer = tiktoken.get_encoding(\"gpt2\")\n"
      ]
    },
    {
      "cell_type": "code",
      "execution_count": 73,
      "metadata": {},
      "outputs": [
        {
          "data": {
            "text/plain": [
              "\" The cat ran happily on the dog's lap.\\n\""
            ]
          },
          "execution_count": 73,
          "metadata": {},
          "output_type": "execute_result"
        }
      ],
      "source": [
        "\n",
        "from gpt2project.search_methods_gpt import AutoregressiveInferenceResults, _clean_inference_results\n",
        "import torch.nn as nn\n",
        "from hyperparameters import hyperparameters\n",
        "\n",
        "def topk_sampling_gpt(\n",
        "    model: nn.Module,\n",
        "    tgt_tokens: torch.Tensor,\n",
        "    vocab_size: int,\n",
        "    max_generated_len: int,\n",
        "    break_on_newline: bool,\n",
        "    k: int = 8,\n",
        "    temperature: float = 0.6,\n",
        ") -> \"AutoregressiveInferenceResults\":\n",
        "    with torch.no_grad():\n",
        "        prompt_len = tgt_tokens.size(1)\n",
        "        total_len = prompt_len + max_generated_len\n",
        "        batch_size = tgt_tokens.size(0)\n",
        "        softmax_probs = torch.empty((batch_size, 0, vocab_size)).to(\n",
        "            hyperparameters.device\n",
        "        )\n",
        "\n",
        "        assert tgt_tokens.shape == (batch_size, prompt_len)\n",
        "\n",
        "        for t in range(max_generated_len):\n",
        "            output, _ = model(tgt_tokens)\n",
        "            assert output.shape == (batch_size, tgt_tokens.size(1), vocab_size)\n",
        "            logits = output[:, -1, :]\n",
        "            assert logits.shape == (batch_size, vocab_size)\n",
        "            logits = logits / temperature\n",
        "            probs = torch.softmax(logits, dim=-1)\n",
        "            assert probs.shape == (batch_size, vocab_size)\n",
        "            topk_probs, topk_tokens = torch.topk(probs, k=k, dim=-1)\n",
        "            ix = torch.multinomial(topk_probs, num_samples=1)\n",
        "            predicted_tokens = torch.gather(topk_tokens, dim=-1, index=ix)\n",
        "            assert predicted_tokens.shape == (batch_size, 1)\n",
        "            tgt_tokens = torch.cat([tgt_tokens, predicted_tokens], dim=1)\n",
        "            softmax_probs = torch.cat([softmax_probs, probs.unsqueeze(1)], dim=1)\n",
        "\n",
        "    assert tgt_tokens.shape == (batch_size, total_len)\n",
        "    assert softmax_probs.shape == (batch_size, max_generated_len, vocab_size)\n",
        "\n",
        "    tgt_tokens = tgt_tokens[:, prompt_len:]\n",
        "    assert tgt_tokens.shape == (batch_size, max_generated_len)\n",
        "    tgt_tokens, softmax_probs = _clean_inference_results(\n",
        "        tgt_tokens, softmax_probs, break_on_newline\n",
        "    )\n",
        "\n",
        "    return AutoregressiveInferenceResults(tgt_tokens, softmax_probs)\n",
        "\n",
        "\n",
        "tgt_tokens = torch.tensor(tokenizer.encode(prompt)).unsqueeze(0).cuda()\n",
        "result = generate_autoregressivly_gpt2(\n",
        "    model, tokenizer, tgt_tokens, topk_sampling_gpt, break_on_newline=True\n",
        ")\n",
        "generated_tokens = result.token_ids.squeeze(0).cpu()\n",
        "decode_token_list(generated_tokens, tokenizer)"
      ]
    }
  ],
  "metadata": {
    "kernelspec": {
      "display_name": "venv",
      "language": "python",
      "name": "python3"
    },
    "language_info": {
      "codemirror_mode": {
        "name": "ipython",
        "version": 3
      },
      "file_extension": ".py",
      "mimetype": "text/x-python",
      "name": "python",
      "nbconvert_exporter": "python",
      "pygments_lexer": "ipython3",
      "version": "3.12.3"
    }
  },
  "nbformat": 4,
  "nbformat_minor": 2
}
