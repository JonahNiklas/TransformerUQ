{
 "cells": [
  {
   "cell_type": "code",
   "execution_count": 1,
   "metadata": {},
   "outputs": [
    {
     "name": "stdout",
     "output_type": "stream",
     "text": [
      "Dummy test loss = 10.64527416229248\n",
      "Dummy test loss on own model = 10.447006225585938\n"
     ]
    },
    {
     "name": "stderr",
     "output_type": "stream",
     "text": [
      "c:\\Users\\Sondr\\TransformerUQ\\venv\\Lib\\site-packages\\torch\\nn\\functional.py:5849: UserWarning: Support for mismatched key_padding_mask and attn_mask is deprecated. Use same type for both instead.\n",
      "  warnings.warn(\n"
     ]
    }
   ],
   "source": [
    "import torch\n",
    "import torch.nn as nn\n",
    "from models.transformer_pytorch import TransformerPyTorch\n",
    "from models.transformer import Transformer\n",
    "from hyperparameters import hyperparameters\n",
    "\n",
    "vocab_size = 32000\n",
    "batch_size = 2\n",
    "seq_len = 5\n",
    "\n",
    "pytorch_model: nn.Module = TransformerPyTorch(\n",
    "    vocab_size=vocab_size,\n",
    "    d_model=hyperparameters.transformer.hidden_size,\n",
    "    num_heads=hyperparameters.transformer.num_heads,\n",
    "    d_ff=hyperparameters.transformer.encoder_ffn_embed_dim,\n",
    "    num_encoder_layers=hyperparameters.transformer.num_hidden_layers,\n",
    "    num_decoder_layers=hyperparameters.transformer.num_hidden_layers,\n",
    "    dropout=hyperparameters.transformer.dropout,\n",
    "    max_len=hyperparameters.transformer.max_len,\n",
    ")\n",
    "own_model = Transformer(\n",
    "    src_vocab_size=vocab_size,\n",
    "    tgt_vocab_size=vocab_size,\n",
    "    d_model=hyperparameters.transformer.hidden_size,\n",
    "    num_heads=hyperparameters.transformer.num_heads,\n",
    "    d_ff=hyperparameters.transformer.encoder_ffn_embed_dim,\n",
    "    num_encoder_layers=hyperparameters.transformer.num_hidden_layers,\n",
    "    num_decoder_layers=hyperparameters.transformer.num_hidden_layers,\n",
    "    dropout=hyperparameters.transformer.dropout,\n",
    "    max_len=hyperparameters.transformer.max_len,\n",
    ")\n",
    "criterion = nn.CrossEntropyLoss(ignore_index=0, reduction=\"mean\")\n",
    "\n",
    "# Dummy data\n",
    "src = torch.randint(1, vocab_size, (batch_size, seq_len))\n",
    "tgt = torch.randint(1, vocab_size, (batch_size, seq_len))\n",
    "\n",
    "# Ensure no zeros in the middle (just for clarity)\n",
    "# but you can keep them if you want to test pad\n",
    "decoder_in = tgt[:, :-1]\n",
    "labels = tgt[:, 1:]\n",
    "\n",
    "logits = pytorch_model(src, decoder_in)  # shape [B, T-1, vocab_size]\n",
    "logits = logits.transpose(1, 2)  # shape [B, vocab_size, T-1]\n",
    "\n",
    "loss = criterion(logits, labels)  # shape [B, T-1]\n",
    "print(\"Dummy test loss =\", loss.item())\n",
    "\n",
    "# Own model\n",
    "logits = own_model(src, decoder_in)  # shape [B, T-1, vocab_size]\n",
    "logits = logits.transpose(1, 2)  # shape [B, vocab_size, T-1]\n",
    "\n",
    "loss = criterion(logits, labels)  # shape [B, T-1]\n",
    "print(\"Dummy test loss on own model =\", loss.item())"
   ]
  },
  {
   "cell_type": "code",
   "execution_count": null,
   "metadata": {},
   "outputs": [],
   "source": []
  }
 ],
 "metadata": {
  "kernelspec": {
   "display_name": "venv",
   "language": "python",
   "name": "python3"
  },
  "language_info": {
   "codemirror_mode": {
    "name": "ipython",
    "version": 3
   },
   "file_extension": ".py",
   "mimetype": "text/x-python",
   "name": "python",
   "nbconvert_exporter": "python",
   "pygments_lexer": "ipython3",
   "version": "3.12.8"
  }
 },
 "nbformat": 4,
 "nbformat_minor": 2
}
